{
 "cells": [
  {
   "cell_type": "code",
   "execution_count": 1,
   "id": "eb8d6ede",
   "metadata": {},
   "outputs": [],
   "source": [
    "import pandas as pd\n",
    "import matplotlib.pyplot as plt\n",
    "import numpy as np\n",
    "\n",
    "import math\n",
    "from pathlib import Path\n",
    "import os\n",
    "import datetime"
   ]
  },
  {
   "cell_type": "code",
   "execution_count": 2,
   "id": "117b46ba",
   "metadata": {},
   "outputs": [],
   "source": [
    "#read in light curves as a file list\n",
    "read_path = Path('./RZ Cep/All_RZ_Cep/Light Curve CSVs/')\n",
    "file_list = [f for f in os.listdir(read_path)if f.endswith('.csv')]\n",
    "\n",
    "#read in first curve separately\n",
    "df_first_obs = pd.read_csv('./RZ Cep/All_RZ_Cep/Light Curve CSVs/2022_12_07_normalised_curve.csv')\n",
    "#define name of datetime column\n",
    "date_time_col = 'date_time'\n",
    "\n",
    "#define sexpected period as a fraction of days\n",
    "period_day_frac = 0.30868"
   ]
  },
  {
   "cell_type": "code",
   "execution_count": 3,
   "id": "0a8bcc7c",
   "metadata": {},
   "outputs": [
    {
     "data": {
      "text/html": [
       "<div>\n",
       "<style scoped>\n",
       "    .dataframe tbody tr th:only-of-type {\n",
       "        vertical-align: middle;\n",
       "    }\n",
       "\n",
       "    .dataframe tbody tr th {\n",
       "        vertical-align: top;\n",
       "    }\n",
       "\n",
       "    .dataframe thead th {\n",
       "        text-align: right;\n",
       "    }\n",
       "</style>\n",
       "<table border=\"1\" class=\"dataframe\">\n",
       "  <thead>\n",
       "    <tr style=\"text-align: right;\">\n",
       "      <th></th>\n",
       "      <th>Unnamed: 0</th>\n",
       "      <th>corrected_magnitude</th>\n",
       "      <th>magnitude_error</th>\n",
       "      <th>date_time</th>\n",
       "    </tr>\n",
       "  </thead>\n",
       "  <tbody>\n",
       "    <tr>\n",
       "      <th>0</th>\n",
       "      <td>0</td>\n",
       "      <td>-11.107920</td>\n",
       "      <td>0.086773</td>\n",
       "      <td>2022-12-07 20:21:36.898</td>\n",
       "    </tr>\n",
       "    <tr>\n",
       "      <th>1</th>\n",
       "      <td>1</td>\n",
       "      <td>-11.107920</td>\n",
       "      <td>0.086773</td>\n",
       "      <td>2022-12-07 20:21:36.898</td>\n",
       "    </tr>\n",
       "    <tr>\n",
       "      <th>2</th>\n",
       "      <td>2</td>\n",
       "      <td>-11.130152</td>\n",
       "      <td>0.087483</td>\n",
       "      <td>2022-12-07 20:23:10.168</td>\n",
       "    </tr>\n",
       "    <tr>\n",
       "      <th>3</th>\n",
       "      <td>3</td>\n",
       "      <td>-11.130152</td>\n",
       "      <td>0.087483</td>\n",
       "      <td>2022-12-07 20:23:10.168</td>\n",
       "    </tr>\n",
       "    <tr>\n",
       "      <th>4</th>\n",
       "      <td>4</td>\n",
       "      <td>-11.125588</td>\n",
       "      <td>0.086684</td>\n",
       "      <td>2022-12-07 20:26:47.376</td>\n",
       "    </tr>\n",
       "    <tr>\n",
       "      <th>...</th>\n",
       "      <td>...</td>\n",
       "      <td>...</td>\n",
       "      <td>...</td>\n",
       "      <td>...</td>\n",
       "    </tr>\n",
       "    <tr>\n",
       "      <th>278</th>\n",
       "      <td>278</td>\n",
       "      <td>-11.133462</td>\n",
       "      <td>0.090656</td>\n",
       "      <td>2022-12-08 03:26:24.390</td>\n",
       "    </tr>\n",
       "    <tr>\n",
       "      <th>279</th>\n",
       "      <td>279</td>\n",
       "      <td>-11.139130</td>\n",
       "      <td>0.091314</td>\n",
       "      <td>2022-12-08 03:27:56.264</td>\n",
       "    </tr>\n",
       "    <tr>\n",
       "      <th>280</th>\n",
       "      <td>280</td>\n",
       "      <td>-11.116421</td>\n",
       "      <td>0.089262</td>\n",
       "      <td>2022-12-08 03:31:34.398</td>\n",
       "    </tr>\n",
       "    <tr>\n",
       "      <th>281</th>\n",
       "      <td>281</td>\n",
       "      <td>-11.089830</td>\n",
       "      <td>0.088599</td>\n",
       "      <td>2022-12-08 03:33:04.554</td>\n",
       "    </tr>\n",
       "    <tr>\n",
       "      <th>282</th>\n",
       "      <td>282</td>\n",
       "      <td>-11.060653</td>\n",
       "      <td>0.089196</td>\n",
       "      <td>2022-12-08 03:36:43.419</td>\n",
       "    </tr>\n",
       "  </tbody>\n",
       "</table>\n",
       "<p>283 rows × 4 columns</p>\n",
       "</div>"
      ],
      "text/plain": [
       "     Unnamed: 0  corrected_magnitude  magnitude_error                date_time\n",
       "0             0           -11.107920         0.086773  2022-12-07 20:21:36.898\n",
       "1             1           -11.107920         0.086773  2022-12-07 20:21:36.898\n",
       "2             2           -11.130152         0.087483  2022-12-07 20:23:10.168\n",
       "3             3           -11.130152         0.087483  2022-12-07 20:23:10.168\n",
       "4             4           -11.125588         0.086684  2022-12-07 20:26:47.376\n",
       "..          ...                  ...              ...                      ...\n",
       "278         278           -11.133462         0.090656  2022-12-08 03:26:24.390\n",
       "279         279           -11.139130         0.091314  2022-12-08 03:27:56.264\n",
       "280         280           -11.116421         0.089262  2022-12-08 03:31:34.398\n",
       "281         281           -11.089830         0.088599  2022-12-08 03:33:04.554\n",
       "282         282           -11.060653         0.089196  2022-12-08 03:36:43.419\n",
       "\n",
       "[283 rows x 4 columns]"
      ]
     },
     "execution_count": 3,
     "metadata": {},
     "output_type": "execute_result"
    }
   ],
   "source": [
    "df_first_obs"
   ]
  },
  {
   "cell_type": "code",
   "execution_count": 4,
   "id": "ba0756f6",
   "metadata": {},
   "outputs": [
    {
     "name": "stdout",
     "output_type": "stream",
     "text": [
      "0 days 07:15:06.521000\n"
     ]
    }
   ],
   "source": [
    "#convert read in time to date_time\n",
    "time_first_obs = pd.to_datetime(df_first_obs[date_time_col])\n",
    "\n",
    "#find the number of obervations in the starting night\n",
    "number_times_first_obs = len(time_first_obs)\n",
    "#define the starting and ending times for the first observation, along with total time change (all datetime objects)\n",
    "start_time = time_first_obs[0]\n",
    "end_time = time_first_obs[number_times_first_obs-1]\n",
    "total_time_change = end_time - start_time\n",
    "print(total_time_change)"
   ]
  },
  {
   "cell_type": "code",
   "execution_count": 5,
   "id": "2f26dc2d",
   "metadata": {},
   "outputs": [
    {
     "name": "stdout",
     "output_type": "stream",
     "text": [
      "7:24:29.952000\n",
      "0.9788739402305636\n"
     ]
    }
   ],
   "source": [
    "#convert period fraction into a datetime object\n",
    "period_est = datetime.timedelta(days = period_day_frac)\n",
    "print(period_est)\n",
    "#find fraction of full star period that passes in the first observation time\n",
    "fraction_of_period_first_obs = total_time_change / period_est\n",
    "print(fraction_of_period_first_obs)"
   ]
  },
  {
   "cell_type": "code",
   "execution_count": 6,
   "id": "78eddf9b",
   "metadata": {},
   "outputs": [],
   "source": [
    "#convert datetimes into julian times\n",
    "#function from stackexchange, user SmittySmee\n",
    "def get_julian_datetime(date):\n",
    "    \"\"\"\n",
    "    Convert a datetime object into julian float.\n",
    "    Args:\n",
    "        date: datetime-object of date in question\n",
    "\n",
    "    Returns: float - Julian calculated datetime.\n",
    "    Raises: \n",
    "        TypeError : Incorrect parameter type\n",
    "        ValueError: Date out of range of equation\n",
    "    \"\"\"\n",
    "\n",
    "    # Ensure correct format\n",
    "    if not isinstance(date, datetime.datetime):\n",
    "        raise TypeError('Invalid type for parameter \"date\" - expecting datetime')\n",
    "    elif date.year < 1801 or date.year > 2099:\n",
    "        raise ValueError('Datetime must be between year 1801 and 2099')\n",
    "\n",
    "    # Perform the calculation\n",
    "    julian_datetime = 367 * date.year - int((7 * (date.year + int((date.month + 9) / 12.0))) / 4.0) + int(\n",
    "        (275 * date.month) / 9.0) + date.day + 1721013.5 + (\n",
    "                          date.hour + date.minute / 60.0 + date.second / math.pow(60,\n",
    "                                                                                  2)) / 24.0 - 0.5 * math.copysign(\n",
    "        1, 100 * date.year + date.month - 190002.5) + 0.5\n",
    "\n",
    "    return julian_datetime"
   ]
  },
  {
   "cell_type": "code",
   "execution_count": 7,
   "id": "8257e913",
   "metadata": {},
   "outputs": [],
   "source": [
    "#convert to julian times\n",
    "julian_start_time = get_julian_datetime(start_time)\n",
    "julian_end_time = get_julian_datetime(end_time)\n",
    "julian_time_change = julian_end_time - julian_start_time\n",
    "#convert julian time change into a fraction\n",
    "phase_factor = fraction_of_period_first_obs / julian_time_change\n",
    "\n",
    "phase_dec_22 = []\n",
    "\n",
    "#iterate through times to convert into phase\n",
    "for time in pd.to_datetime(df_first_obs[date_time_col]):\n",
    "    #convert current time to julian time\n",
    "    julian_time = get_julian_datetime(time)\n",
    "    #find time since start of observation\n",
    "    julian_time_since_first_obs = julian_time - julian_start_time\n",
    "    \n",
    "\n",
    "    #map the time since first observation to the phase\n",
    "    phase = phase_factor * julian_time_since_first_obs\n",
    "    #append new phase value to an array\n",
    "    phase_dec_22.append(phase)"
   ]
  },
  {
   "cell_type": "code",
   "execution_count": 8,
   "id": "b72f6a76",
   "metadata": {},
   "outputs": [],
   "source": [
    "phase_jan_23 = []\n",
    "df_jan_23 = pd.read_csv(read_path / file_list[1])\n",
    "\n",
    "#iterate through times to convert into phase\n",
    "for time in pd.to_datetime(df_jan_23[date_time_col]):\n",
    "    #convert current time to julian time\n",
    "    julian_time = get_julian_datetime(time)\n",
    "    #find time since start of observation\n",
    "    julian_time_since_first_obs = julian_time - julian_start_time\n",
    "    \n",
    "\n",
    "    #map the time since first observation to the phase\n",
    "    phase = phase_factor * julian_time_since_first_obs\n",
    "    #convert to 0 - 1\n",
    "    phase = phase - np.floor(phase)\n",
    "    #append new phase value to an array\n",
    "    phase_jan_23.append(phase)"
   ]
  },
  {
   "cell_type": "code",
   "execution_count": 9,
   "id": "a0a283f6",
   "metadata": {},
   "outputs": [],
   "source": [
    "phase_feb_23 = []\n",
    "df_feb_23 = pd.read_csv(read_path / file_list[2])\n",
    "\n",
    "#iterate through times to convert into phase\n",
    "for time in pd.to_datetime(df_feb_23[date_time_col]):\n",
    "    #convert current time to julian time\n",
    "    julian_time = get_julian_datetime(time)\n",
    "    #find time since start of observation\n",
    "    julian_time_since_first_obs = julian_time - julian_start_time\n",
    "    \n",
    "\n",
    "    #map the time since first observation to the phase\n",
    "    phase = phase_factor * julian_time_since_first_obs\n",
    "    #convert to 0 - 1\n",
    "    phase = phase - np.floor(phase)\n",
    "    #append new phase value to an array\n",
    "    phase_feb_23.append(phase)"
   ]
  },
  {
   "cell_type": "code",
   "execution_count": 10,
   "id": "0ed1473d",
   "metadata": {},
   "outputs": [],
   "source": [
    "phase_nov_23 = []\n",
    "df_nov_23 = pd.read_csv(read_path / file_list[3])\n",
    "#drop first anomalous point\n",
    "df_nov_23 = df_nov_23.iloc[1:, :]\n",
    "df_nov_23.reset_index(drop=True, inplace=True)\n",
    "\n",
    "#iterate through times to convert into phase\n",
    "for time in pd.to_datetime(df_nov_23[date_time_col]):\n",
    "    #convert current time to julian time\n",
    "    julian_time = get_julian_datetime(time)\n",
    "    #find time since start of observation\n",
    "    julian_time_since_first_obs = julian_time - julian_start_time\n",
    "    \n",
    "\n",
    "    #map the time since first observation to the phase\n",
    "    phase = phase_factor * julian_time_since_first_obs\n",
    "    #convert to 0 - 1\n",
    "    phase = phase - np.floor(phase)\n",
    "    #append new phase value to an array\n",
    "    phase_nov_23.append(phase)"
   ]
  },
  {
   "cell_type": "code",
   "execution_count": 11,
   "id": "e38f1049",
   "metadata": {},
   "outputs": [
    {
     "data": {
      "image/png": "[encoded data removed]",
      "text/plain": [
       "<Figure size 640x480 with 1 Axes>"
      ]
     },
     "metadata": {},
     "output_type": "display_data"
    }
   ],
   "source": [
    "plt.plot(phase_dec_22, df_first_obs['corrected_magnitude'], marker='x', ls='None', label='Dec 22')\n",
    "plt.plot(phase_jan_23, df_jan_23['corrected_magnitude'], marker='x', ls='None', label='Jan 23')\n",
    "plt.plot(phase_feb_23, df_feb_23['corrected_magnitude'], marker='x', ls='None', label='Feb 23')\n",
    "plt.plot(phase_nov_23, df_nov_23['corrected_magnitude'], marker='x', ls='None', label='Nov 23')\n",
    "plt.gca().invert_yaxis()\n",
    "plt.legend()\n",
    "plt.title('Folded Light Curves')\n",
    "plt.xlabel('Phase')\n",
    "plt.ylabel('Instrumental Magnitude')\n",
    "plt.show()"
   ]
  },
  {
   "cell_type": "code",
   "execution_count": null,
   "id": "70845193",
   "metadata": {},
   "outputs": [],
   "source": []
  }
 ],
 "metadata": {
  "kernelspec": {
   "display_name": "Python 3 (ipykernel)",
   "language": "python",
   "name": "python3"
  },
  "language_info": {
   "codemirror_mode": {
    "name": "ipython",
    "version": 3
   },
   "file_extension": ".py",
   "mimetype": "text/x-python",
   "name": "python",
   "nbconvert_exporter": "python",
   "pygments_lexer": "ipython3",
   "version": "3.11.3"
  }
 },
 "nbformat": 4,
 "nbformat_minor": 5
}
