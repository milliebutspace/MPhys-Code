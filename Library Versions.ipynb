{
 "cells": [
  {
   "cell_type": "markdown",
   "id": "303c23dc",
   "metadata": {},
   "source": [
    "Libraries Used:\n",
    "   - os\n",
    "   - matplotlib\n",
    "   - pathlib\n",
    "   - astropy\n",
    "   - ccdproc\n",
    "   - numpy\n",
    "   - photutils\n",
    "   - astroquery\n",
    "   - astroalign\n",
    "   - scipy\n",
    "   - statistics\n",
    "   - datetime\n",
    "   - pyvo\n",
    "    \n",
    "Specific Algorithms:\n",
    "   - DAOPHOT\n",
    "   - LombScargle\n",
    "   - Levenberg-Marquardt"
   ]
  },
  {
   "cell_type": "code",
   "execution_count": 22,
   "id": "a6a6d6df",
   "metadata": {},
   "outputs": [
    {
     "name": "stdout",
     "output_type": "stream",
     "text": [
      "Python Version = 3.11.3\n",
      "MatPlotLib Version =  3.7.1\n",
      "PathLib Version = 1.0.1\n",
      "Astropy Version = 5.1\n",
      "CCDPROC Version = 2.4.1\n",
      "Numpy Version = 1.24.3\n",
      "Photutils Version = 1.8.0\n",
      "SciPy Version = 1.10.1\n"
     ]
    }
   ],
   "source": [
    "# Python Version\n",
    "from platform import python_version\n",
    "print(f'Python Version = {python_version()}')\n",
    "\n",
    "from importlib.metadata import version\n",
    "print('MatPlotLib Version = ', version('matplotlib'))\n",
    "\n",
    "print('PathLib Version =', version('pathlib'))\n",
    "\n",
    "print('Astropy Version =', version('astropy'))\n",
    "\n",
    "print('CCDPROC Version =', version('ccdproc'))\n",
    "\n",
    "print('Numpy Version =', version('numpy'))\n",
    "\n",
    "print('Photutils Version =', version('photutils'))\n",
    "\n",
    "# print('Astroquery Version =', version('astroquery'))\n",
    "\n",
    "# print('AstroAlign Version =', version('astroalign'))\n",
    "\n",
    "print('SciPy Version =', version('scipy'))\n",
    "\n",
    "# print('DateTime Version =', version('datetime'))\n",
    "\n",
    "# print('PYVO Version =', version('pyvo'))"
   ]
  },
  {
   "cell_type": "code",
   "execution_count": null,
   "id": "fb4025a7",
   "metadata": {},
   "outputs": [],
   "source": []
  }
 ],
 "metadata": {
  "kernelspec": {
   "display_name": "Python 3 (ipykernel)",
   "language": "python",
   "name": "python3"
  },
  "language_info": {
   "codemirror_mode": {
    "name": "ipython",
    "version": 3
   },
   "file_extension": ".py",
   "mimetype": "text/x-python",
   "name": "python",
   "nbconvert_exporter": "python",
   "pygments_lexer": "ipython3",
   "version": "3.11.3"
  }
 },
 "nbformat": 4,
 "nbformat_minor": 5
}
