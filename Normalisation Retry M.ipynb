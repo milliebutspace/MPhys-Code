{
 "cells": [
  {
   "cell_type": "code",
   "execution_count": 1,
   "id": "704e838f",
   "metadata": {},
   "outputs": [],
   "source": [
    "import pandas as pd\n",
    "import matplotlib.pyplot as plt\n",
    "from pathlib import Path\n",
    "import os\n",
    "import numpy as np\n",
    "from scipy.spatial import distance\n",
    "import math\n",
    "import statistics"
   ]
  },
  {
   "cell_type": "code",
   "execution_count": 247,
   "id": "cda61cad",
   "metadata": {},
   "outputs": [],
   "source": [
    "#filter specific file names\n",
    "#luminance = 'star_Light_Luminance_5_secs_001_reduced_matched.csv'\n",
    "#luminance = 'star_Light_Luminance_10_secs_001_reduced_matched.csv'\n",
    "luminance = 'RZ_Cep_Light_Luminance_10_secs_001_reduced_matched.csv'\n",
    "#luminance = 'Light_Luminance_3.500_secs_001_reduced_matched.csv'\n",
    "red = 'star_Light_Red_30_secs_001_reduced_matched.csv'\n",
    "green = 'star_Light_Green_30_secs_001_reduced_matched.csv'\n",
    "blue = 'Light_Blue_30_secs_001_reduced_matched.csv'\n",
    "\n",
    "#set current filter\n",
    "ref_csv_name = luminance\n",
    "current_filter = 'Luminance'\n",
    "\n",
    "#define file read path and the file list, excluding the first file\n",
    "#read_path = Path(f'./RZ Cep/All_RZ_Cep/2022_12_07/RZ_Cep/CSVs/Matched Stars/{current_filter}')\n",
    "#read_path = Path(f'./RZ Cep/All_RZ_Cep/2023_01_23/RZ_Cep/CSVs/Matched Stars/{current_filter}')\n",
    "read_path = Path(f'./RZ Cep/All_RZ_Cep/2023_02_23/RZ_Cep/CSVs/Matched Stars/{current_filter}')\n",
    "#read_path = Path(f'./RZ Cep/All_RZ_Cep/2023_11_10/RZ_Cep/CSVs/Matched Stars/{current_filter}')\n",
    "file_list = [f for f in os.listdir(read_path)if f.endswith('_matched.csv') and f != ref_csv_name]\n",
    "\n",
    "final_csv_path = Path('./RZ Cep/All_RZ_Cep/Light Curve CSVs/')\n",
    "#final_csv_name = '2022_12_07_normalised_curve_1.csv'\n",
    "#final_csv_name = '2023_01_23_normalised_curve_1.csv'\n",
    "final_csv_name = '2023_02_23_normalised_curve_1.csv'\n",
    "#final_csv_name = '2023_11_10_normalised_curve_1.csv'\n",
    "\n",
    "#write_path = Path(f'./RZ Cep/All_RZ_Cep/2022_12_07/RZ_Cep/CSVs/Normalised')\n",
    "#write_path = Path(f'./RZ Cep/All_RZ_Cep/2023_01_23/RZ_Cep/CSVs/Normalised')\n",
    "write_path = Path(f'./RZ Cep/All_RZ_Cep/2023_02_23/RZ_Cep/CSVs/Normalised')\n",
    "#write_path = Path(f'./RZ Cep/All_RZ_Cep/2023_11_10/RZ_Cep/CSVs/Normalised')"
   ]
  },
  {
   "cell_type": "code",
   "execution_count": 248,
   "id": "94a81b82",
   "metadata": {},
   "outputs": [],
   "source": [
    "#column names for reference dataframe\n",
    "mag_name = 'instrumental_mag'\n",
    "mag_error_name = 'mag_error'\n",
    "corr_mag_name = 'corrected_mag'\n",
    "corr_mag_x_name = 'corrected_mag_x'\n",
    "date_time_name = 'date_time'\n",
    "exp_time_name = 'exp_time'\n",
    "star_id_name = 'star_id'\n",
    "x_pos_name = 'x_center'\n",
    "y_pos_name = 'y_center'"
   ]
  },
  {
   "cell_type": "code",
   "execution_count": 249,
   "id": "ad5bd0b4",
   "metadata": {},
   "outputs": [],
   "source": [
    "reference_image = pd.read_csv(f'./RZ Cep/All_RZ_Cep/2023_01_23/RZ_Cep/CSVs/Matched Stars/Luminance/star_Light_Luminance_10_secs_001_reduced_matched.csv')\n",
    "reference_image.drop(columns=['Unnamed: 0.1', 'Unnamed: 0'], inplace=True)"
   ]
  },
  {
   "cell_type": "code",
   "execution_count": 250,
   "id": "add260b9",
   "metadata": {},
   "outputs": [],
   "source": [
    "def find_position_estimates(dataframe):\n",
    "    pos_est = {}\n",
    "    all_past_positions = {}\n",
    "\n",
    "    for idx, row in dataframe.iterrows():\n",
    "        star_name = row['star_id']\n",
    "        if star_name not in all_past_positions:\n",
    "            all_past_positions[star_name] = [[row[x_pos_name], row[y_pos_name]]]\n",
    "        else:\n",
    "            all_past_positions[star_name].append([row[x_pos_name], row[y_pos_name]])\n",
    "\n",
    "    for key, array in all_past_positions.items():\n",
    "        pos_est[key] = np.mean(array, axis=0)\n",
    "\n",
    "#     print(pos_est)\n",
    "    return pos_est\n",
    "\n",
    "pos_est_reference = find_position_estimates(reference_image)"
   ]
  },
  {
   "cell_type": "code",
   "execution_count": 251,
   "id": "43cd1bc1",
   "metadata": {},
   "outputs": [
    {
     "name": "stderr",
     "output_type": "stream",
     "text": [
      "C:\\Users\\es2143\\AppData\\Local\\Temp\\ipykernel_24080\\1499847861.py:2: FutureWarning: In a future version of pandas, a length 1 tuple will be returned when iterating over a groupby with a grouper equal to a list of length 1. Don't supply a list with a single grouper to avoid this warning.\n",
      "  for group_index, group in dataframe.groupby(['star_id']):\n"
     ]
    }
   ],
   "source": [
    "def drop_duplicate_stars(dataframe, position_estimates):\n",
    "    for group_index, group in dataframe.groupby(['star_id']):\n",
    "#         print(group)\n",
    "        position_differences = []\n",
    "        for idx, row in group.iterrows():\n",
    "            star_name = row['star_id']\n",
    "            current_position = [row[x_pos_name], row[y_pos_name]]\n",
    "            pos_diff = distance.euclidean(current_position, position_estimates[star_name])\n",
    "            position_differences.append([idx, abs(pos_diff)])\n",
    "#        first number, min index, second number: min dist star index in group\n",
    "        good_idx = np.argmin(position_differences, axis=0)[1]\n",
    "        dataframe.drop(index=[position_differences[i][0] for i in range(len(position_differences)) if i != good_idx], \n",
    "                       inplace=True)\n",
    "    dataframe.reset_index(inplace=True)\n",
    "    dataframe.drop(columns=['index'], inplace=True)\n",
    "     \n",
    "drop_duplicate_stars(reference_image, pos_est_reference)\n",
    "ref_stars = reference_image['star_id']"
   ]
  },
  {
   "cell_type": "code",
   "execution_count": 252,
   "id": "344c1304",
   "metadata": {},
   "outputs": [],
   "source": [
    "#column names for current image\n",
    "# mag_name = 'Source_Mag'\n",
    "# mag_error_name = 'Source_Mag_Error'\n",
    "# corr_mag_name = 'Corrected_Mag'\n",
    "# corr_mag_x_name = 'corrected_mag'\n",
    "# corr_mag_y_name = 'Corrected_Mag'\n",
    "# date_time_name = 'Date Observation'\n",
    "# exp_time_name = 'Exposure time /s '\n",
    "# star_id_name = 'star_id'\n",
    "# x_pos_name = 'xcenter'\n",
    "# y_pos_name = 'ycenter'\n",
    "\n",
    "mag_name = 'instrumental_mag'\n",
    "mag_error_name = 'mag_error'\n",
    "corr_mag_name = 'corrected_mag'\n",
    "corr_mag_x_name = 'corrected_mag_x'\n",
    "corr_mag_y_name = 'corrected_mag_y'\n",
    "date_time_name = 'date_time'\n",
    "exp_time_name = 'exp_time'\n",
    "star_id_name = 'star_id'\n",
    "x_pos_name = 'x_center'\n",
    "y_pos_name = 'y_center'"
   ]
  },
  {
   "cell_type": "code",
   "execution_count": 253,
   "id": "ebe2c7ef",
   "metadata": {
    "scrolled": true
   },
   "outputs": [],
   "source": [
    "'''\n",
    "correction_array = []\n",
    "date_time_array = []\n",
    "corrected_mags = []\n",
    "errors = []\n",
    "\n",
    "for image in file_list:\n",
    "    current_image = pd.read_csv(read_path / image)\n",
    "    current_image.drop(columns=['Unnamed: 0'], inplace=True)\n",
    "    \n",
    "    current_pos_est = find_position_estimates(current_image)\n",
    "    drop_duplicate_stars(current_image, current_pos_est)\n",
    "        \n",
    "    merged_image = pd.merge(left=reference_image, right=current_image, on='star_id', how='inner')\n",
    "    merged_image.sort_values([corr_mag_x_name], inplace=True)\n",
    "    \n",
    "    merged_image['delta_mag'] = merged_image[corr_mag_x_name] - merged_image[corr_mag_y_name]\n",
    "    merged_image = merged_image[merged_image.star_id!='V* RZ Cep']\n",
    "    \n",
    "    zp_correction = np.mean(merged_image['delta_mag'])\n",
    "    zp_correction_err = np.std(merged_image['delta_mag']) / np.sqrt(float(len(merged_image['delta_mag'])))\n",
    "    \n",
    "    correction_array.append([zp_correction, zp_correction_err])\n",
    "    \n",
    "    current_image['normalised_mag'] = current_image[corr_mag_name] + zp_correction\n",
    "    current_image['updated_mag_error'] = current_image[mag_error_name] + abs(zp_correction_err)\n",
    "    \n",
    "    RZ_Cep_mag = current_image.loc[current_image['star_id'] == 'V* RZ Cep'][corr_mag_name]\n",
    "    error = abs(current_image.loc[current_image['star_id'] == 'V* RZ Cep'][mag_error_name])\n",
    "\n",
    "    if len(RZ_Cep_mag) == 0:\n",
    "        continue\n",
    "    corrected_mags.append(float(RZ_Cep_mag + zp_correction))\n",
    "    date_time_array.append(current_image[date_time_name][0])\n",
    "    errors.append(float(error + zp_correction_err))\n",
    "    nov_stars = current_image['star_id']\n",
    "    \n",
    "    file_name = image.replace('_matched.csv','_normalised.csv')\n",
    "    #file_name = image.replace('_photometery.csv', '_normalised.csv')\n",
    "    print(file_name)\n",
    "    current_image.to_csv(write_path / file_name)\n",
    "\n",
    "'''\n",
    "pass"
   ]
  },
  {
   "cell_type": "code",
   "execution_count": 254,
   "id": "cf02f2da",
   "metadata": {
    "scrolled": true
   },
   "outputs": [
    {
     "name": "stderr",
     "output_type": "stream",
     "text": [
      "C:\\Users\\es2143\\AppData\\Local\\Temp\\ipykernel_24080\\1499847861.py:2: FutureWarning: In a future version of pandas, a length 1 tuple will be returned when iterating over a groupby with a grouper equal to a list of length 1. Don't supply a list with a single grouper to avoid this warning.\n",
      "  for group_index, group in dataframe.groupby(['star_id']):\n",
      "C:\\Users\\es2143\\AppData\\Local\\Temp\\ipykernel_24080\\1499847861.py:2: FutureWarning: In a future version of pandas, a length 1 tuple will be returned when iterating over a groupby with a grouper equal to a list of length 1. Don't supply a list with a single grouper to avoid this warning.\n",
      "  for group_index, group in dataframe.groupby(['star_id']):\n",
      "C:\\Users\\es2143\\AppData\\Local\\Temp\\ipykernel_24080\\1499847861.py:2: FutureWarning: In a future version of pandas, a length 1 tuple will be returned when iterating over a groupby with a grouper equal to a list of length 1. Don't supply a list with a single grouper to avoid this warning.\n",
      "  for group_index, group in dataframe.groupby(['star_id']):\n",
      "C:\\Users\\es2143\\AppData\\Local\\Temp\\ipykernel_24080\\1499847861.py:2: FutureWarning: In a future version of pandas, a length 1 tuple will be returned when iterating over a groupby with a grouper equal to a list of length 1. Don't supply a list with a single grouper to avoid this warning.\n",
      "  for group_index, group in dataframe.groupby(['star_id']):\n",
      "C:\\Users\\es2143\\AppData\\Local\\Temp\\ipykernel_24080\\1499847861.py:2: FutureWarning: In a future version of pandas, a length 1 tuple will be returned when iterating over a groupby with a grouper equal to a list of length 1. Don't supply a list with a single grouper to avoid this warning.\n",
      "  for group_index, group in dataframe.groupby(['star_id']):\n",
      "C:\\Users\\es2143\\AppData\\Local\\Temp\\ipykernel_24080\\1499847861.py:2: FutureWarning: In a future version of pandas, a length 1 tuple will be returned when iterating over a groupby with a grouper equal to a list of length 1. Don't supply a list with a single grouper to avoid this warning.\n",
      "  for group_index, group in dataframe.groupby(['star_id']):\n",
      "C:\\Users\\es2143\\AppData\\Local\\Temp\\ipykernel_24080\\1499847861.py:2: FutureWarning: In a future version of pandas, a length 1 tuple will be returned when iterating over a groupby with a grouper equal to a list of length 1. Don't supply a list with a single grouper to avoid this warning.\n",
      "  for group_index, group in dataframe.groupby(['star_id']):\n",
      "C:\\Users\\es2143\\AppData\\Local\\Temp\\ipykernel_24080\\1499847861.py:2: FutureWarning: In a future version of pandas, a length 1 tuple will be returned when iterating over a groupby with a grouper equal to a list of length 1. Don't supply a list with a single grouper to avoid this warning.\n",
      "  for group_index, group in dataframe.groupby(['star_id']):\n",
      "C:\\Users\\es2143\\AppData\\Local\\Temp\\ipykernel_24080\\1499847861.py:2: FutureWarning: In a future version of pandas, a length 1 tuple will be returned when iterating over a groupby with a grouper equal to a list of length 1. Don't supply a list with a single grouper to avoid this warning.\n",
      "  for group_index, group in dataframe.groupby(['star_id']):\n",
      "C:\\Users\\es2143\\AppData\\Local\\Temp\\ipykernel_24080\\1499847861.py:2: FutureWarning: In a future version of pandas, a length 1 tuple will be returned when iterating over a groupby with a grouper equal to a list of length 1. Don't supply a list with a single grouper to avoid this warning.\n",
      "  for group_index, group in dataframe.groupby(['star_id']):\n",
      "C:\\Users\\es2143\\AppData\\Local\\Temp\\ipykernel_24080\\1499847861.py:2: FutureWarning: In a future version of pandas, a length 1 tuple will be returned when iterating over a groupby with a grouper equal to a list of length 1. Don't supply a list with a single grouper to avoid this warning.\n",
      "  for group_index, group in dataframe.groupby(['star_id']):\n",
      "C:\\Users\\es2143\\AppData\\Local\\Temp\\ipykernel_24080\\1499847861.py:2: FutureWarning: In a future version of pandas, a length 1 tuple will be returned when iterating over a groupby with a grouper equal to a list of length 1. Don't supply a list with a single grouper to avoid this warning.\n",
      "  for group_index, group in dataframe.groupby(['star_id']):\n",
      "C:\\Users\\es2143\\AppData\\Local\\Temp\\ipykernel_24080\\1499847861.py:2: FutureWarning: In a future version of pandas, a length 1 tuple will be returned when iterating over a groupby with a grouper equal to a list of length 1. Don't supply a list with a single grouper to avoid this warning.\n",
      "  for group_index, group in dataframe.groupby(['star_id']):\n",
      "C:\\Users\\es2143\\AppData\\Local\\Temp\\ipykernel_24080\\1499847861.py:2: FutureWarning: In a future version of pandas, a length 1 tuple will be returned when iterating over a groupby with a grouper equal to a list of length 1. Don't supply a list with a single grouper to avoid this warning.\n",
      "  for group_index, group in dataframe.groupby(['star_id']):\n",
      "C:\\Users\\es2143\\AppData\\Local\\Temp\\ipykernel_24080\\1499847861.py:2: FutureWarning: In a future version of pandas, a length 1 tuple will be returned when iterating over a groupby with a grouper equal to a list of length 1. Don't supply a list with a single grouper to avoid this warning.\n",
      "  for group_index, group in dataframe.groupby(['star_id']):\n",
      "C:\\Users\\es2143\\AppData\\Local\\Temp\\ipykernel_24080\\1499847861.py:2: FutureWarning: In a future version of pandas, a length 1 tuple will be returned when iterating over a groupby with a grouper equal to a list of length 1. Don't supply a list with a single grouper to avoid this warning.\n",
      "  for group_index, group in dataframe.groupby(['star_id']):\n",
      "C:\\Users\\es2143\\AppData\\Local\\Temp\\ipykernel_24080\\1499847861.py:2: FutureWarning: In a future version of pandas, a length 1 tuple will be returned when iterating over a groupby with a grouper equal to a list of length 1. Don't supply a list with a single grouper to avoid this warning.\n",
      "  for group_index, group in dataframe.groupby(['star_id']):\n",
      "C:\\Users\\es2143\\AppData\\Local\\Temp\\ipykernel_24080\\1499847861.py:2: FutureWarning: In a future version of pandas, a length 1 tuple will be returned when iterating over a groupby with a grouper equal to a list of length 1. Don't supply a list with a single grouper to avoid this warning.\n",
      "  for group_index, group in dataframe.groupby(['star_id']):\n",
      "C:\\Users\\es2143\\AppData\\Local\\Temp\\ipykernel_24080\\1499847861.py:2: FutureWarning: In a future version of pandas, a length 1 tuple will be returned when iterating over a groupby with a grouper equal to a list of length 1. Don't supply a list with a single grouper to avoid this warning.\n",
      "  for group_index, group in dataframe.groupby(['star_id']):\n",
      "C:\\Users\\es2143\\AppData\\Local\\Temp\\ipykernel_24080\\1499847861.py:2: FutureWarning: In a future version of pandas, a length 1 tuple will be returned when iterating over a groupby with a grouper equal to a list of length 1. Don't supply a list with a single grouper to avoid this warning.\n",
      "  for group_index, group in dataframe.groupby(['star_id']):\n",
      "C:\\Users\\es2143\\AppData\\Local\\Temp\\ipykernel_24080\\1499847861.py:2: FutureWarning: In a future version of pandas, a length 1 tuple will be returned when iterating over a groupby with a grouper equal to a list of length 1. Don't supply a list with a single grouper to avoid this warning.\n",
      "  for group_index, group in dataframe.groupby(['star_id']):\n",
      "C:\\Users\\es2143\\AppData\\Local\\Temp\\ipykernel_24080\\1499847861.py:2: FutureWarning: In a future version of pandas, a length 1 tuple will be returned when iterating over a groupby with a grouper equal to a list of length 1. Don't supply a list with a single grouper to avoid this warning.\n",
      "  for group_index, group in dataframe.groupby(['star_id']):\n",
      "C:\\Users\\es2143\\AppData\\Local\\Temp\\ipykernel_24080\\1499847861.py:2: FutureWarning: In a future version of pandas, a length 1 tuple will be returned when iterating over a groupby with a grouper equal to a list of length 1. Don't supply a list with a single grouper to avoid this warning.\n",
      "  for group_index, group in dataframe.groupby(['star_id']):\n",
      "C:\\Users\\es2143\\AppData\\Local\\Temp\\ipykernel_24080\\1499847861.py:2: FutureWarning: In a future version of pandas, a length 1 tuple will be returned when iterating over a groupby with a grouper equal to a list of length 1. Don't supply a list with a single grouper to avoid this warning.\n",
      "  for group_index, group in dataframe.groupby(['star_id']):\n",
      "C:\\Users\\es2143\\AppData\\Local\\Temp\\ipykernel_24080\\1499847861.py:2: FutureWarning: In a future version of pandas, a length 1 tuple will be returned when iterating over a groupby with a grouper equal to a list of length 1. Don't supply a list with a single grouper to avoid this warning.\n",
      "  for group_index, group in dataframe.groupby(['star_id']):\n",
      "C:\\Users\\es2143\\AppData\\Local\\Temp\\ipykernel_24080\\1499847861.py:2: FutureWarning: In a future version of pandas, a length 1 tuple will be returned when iterating over a groupby with a grouper equal to a list of length 1. Don't supply a list with a single grouper to avoid this warning.\n",
      "  for group_index, group in dataframe.groupby(['star_id']):\n"
     ]
    }
   ],
   "source": [
    "correction_array = []\n",
    "date_time_array = []\n",
    "corrected_mags = []\n",
    "errors = []\n",
    "\n",
    "corr_stan = []\n",
    "err_stan = []\n",
    "\n",
    "for image in file_list:\n",
    "    current_image = pd.read_csv(read_path / image)\n",
    "    current_image.drop(columns=['Unnamed: 0'], inplace=True)\n",
    "    \n",
    "    current_pos_est = find_position_estimates(current_image)\n",
    "    drop_duplicate_stars(current_image, current_pos_est)\n",
    "        \n",
    "    merged_image = pd.merge(left=reference_image, right=current_image, on='star_id', how='inner')\n",
    "    merged_image.sort_values([corr_mag_x_name], inplace=True)\n",
    "    \n",
    "    merged_image['delta_mag'] = merged_image[corr_mag_x_name] - merged_image[corr_mag_y_name]\n",
    "    merged_image = merged_image[merged_image.star_id=='LSPM J2241+6501']\n",
    "    \n",
    "    zp_correction = np.mean(merged_image['delta_mag'])\n",
    "    zp_correction_err = np.std(merged_image['delta_mag']) / np.sqrt(float(len(merged_image['delta_mag'])))\n",
    "    \n",
    "    correction_array.append([zp_correction, zp_correction_err])\n",
    "    \n",
    "    current_image['normalised_mag'] = current_image[corr_mag_name] + zp_correction\n",
    "    current_image['updated_mag_error'] = current_image[mag_error_name] + abs(zp_correction_err)\n",
    "    \n",
    "    RZ_Cep_mag = current_image.loc[current_image['star_id'] == 'V* RZ Cep']['normalised_mag']\n",
    "    stan_mag = current_image.loc[current_image['star_id'] == 'LSPM J2241+6501']['normalised_mag']\n",
    "    error = abs(current_image.loc[current_image['star_id'] == 'V* RZ Cep'][mag_error_name])\n",
    "    stan_err = abs(current_image.loc[current_image['star_id'] == 'LSPM J2241+6501'][mag_error_name])\n",
    "\n",
    "    if len(RZ_Cep_mag) == 0:\n",
    "        continue\n",
    "    elif len(stan_mag) ==0:\n",
    "        continue\n",
    "    corrected_mags.append(float(RZ_Cep_mag))\n",
    "    corr_stan.append(float(stan_mag))\n",
    "    date_time_array.append(current_image[date_time_name][0])\n",
    "    errors.append(float(error + zp_correction_err))\n",
    "    err_stan.append(float(stan_err + zp_correction_err))\n",
    "    nov_stars = current_image['star_id']\n",
    "    \n",
    "    #file_name = image.replace('_matched.csv','_normalised.csv')\n",
    "    #file_name = image.replace('_photometery.csv', '_normalised.csv')\n",
    "    #print(file_name)\n",
    "    #current_image.to_csv(write_path / file_name)"
   ]
  },
  {
   "cell_type": "code",
   "execution_count": 255,
   "id": "ec460647",
   "metadata": {},
   "outputs": [
    {
     "data": {
      "image/png": "[encoded data removed]",
      "text/plain": [
       "<Figure size 640x480 with 1 Axes>"
      ]
     },
     "metadata": {},
     "output_type": "display_data"
    }
   ],
   "source": [
    "date_times = pd.to_datetime(date_time_array)\n",
    "\n",
    "errors = np.asarray(errors)\n",
    "err_stan = np.asarray(err_stan)\n",
    "corrected_mags = np.asarray(corrected_mags)\n",
    "corr_stan = np.asarray(corr_stan)\n",
    "\n",
    "plt.errorbar(date_times, corrected_mags, yerr=errors, marker='.', ls='None', label='V* RZ Cep')\n",
    "plt.errorbar(date_times, corr_stan, yerr=err_stan, marker='.', ls='None', label='LSPM J2241+6501')\n",
    "plt.gca().invert_yaxis()\n",
    "plt.legend()\n",
    "plt.title('Nov 2023')\n",
    "plt.xlabel('Time')\n",
    "plt.ylabel('Instrumental Magnitude')\n",
    "plt.show()"
   ]
  },
  {
   "cell_type": "code",
   "execution_count": 256,
   "id": "f2461bb4",
   "metadata": {},
   "outputs": [],
   "source": [
    "#use ap stats error or sqrt counts\n",
    "\n",
    "df_curve = pd.DataFrame(data=(corr_stan, err_stan, date_times))\n",
    "df_curve = df_curve.T\n",
    "df_curve.columns = ['corrected_magnitude', 'magnitude_error', 'date_time']\n",
    "df_curve.to_csv(final_csv_path / 'stan_feb.csv')"
   ]
  },
  {
   "cell_type": "code",
   "execution_count": null,
   "id": "47af40ed",
   "metadata": {},
   "outputs": [],
   "source": [
    "#where is stan in image"
   ]
  },
  {
   "cell_type": "code",
   "execution_count": 93,
   "id": "ded3cb8e",
   "metadata": {},
   "outputs": [
    {
     "data": {
      "text/plain": [
       "{'1RXS J223959.9+643330',\n",
       " '2MASS J22365043+6456254',\n",
       " '2MASS J22405245+6505370',\n",
       " '2MASS J22420892+6508103',\n",
       " 'Gaia DR2 2211583698432680064',\n",
       " 'Gaia DR2 2211637677581574144',\n",
       " 'Gaia DR3 2211625479874273536',\n",
       " 'Gaia DR3 2212402667093547008',\n",
       " 'LSPM J2241+6501',\n",
       " 'NVSS J224004+645852',\n",
       " 'TYC 4273-1186-1',\n",
       " 'TYC 4273-1351-1',\n",
       " 'TYC 4273-149-1',\n",
       " 'TYC 4273-673-1',\n",
       " 'TYC 4273-858-1',\n",
       " 'TYC 4273-922-1',\n",
       " 'V* RZ Cep'}"
      ]
     },
     "execution_count": 93,
     "metadata": {},
     "output_type": "execute_result"
    }
   ],
   "source": [
    "#find stars common between all images\n",
    "names1 = set(nov_stars).intersection(feb_stars)\n",
    "names2 = set(jan_stars).intersection(dec_stars)\n",
    "names = set(names1).intersection(names2)\n",
    "names"
   ]
  },
  {
   "cell_type": "code",
   "execution_count": 105,
   "id": "dbc208a2",
   "metadata": {},
   "outputs": [],
   "source": [
    "normal_path = Path('./RZ Cep/All_RZ_Cep/2023_11_10/RZ_Cep/CSVs/Normalised')\n",
    "file_list2 = [f for f in os.listdir(normal_path)if f.endswith('.csv')]\n",
    "\n",
    "stan_mag = []\n",
    "stan_time = []\n",
    "stan_error = []\n",
    "for csv in file_list2:\n",
    "    df = pd.read_csv(normal_path / csv)\n",
    "    stan_mag.append(float(df.loc[df['star_id'] == 'TYC 4273-922-1']['normalised_mag']))\n",
    "    stan_time.append(df['date_time'][0])\n",
    "    stan_error.append(float(abs(df.loc[df['star_id'] == 'TYC 4273-922-1']['mag_error'])))\n",
    "\n",
    "date_times_nov = pd.to_datetime(stan_time)\n",
    "\n",
    "errors_nov = np.asarray(stan_error)\n",
    "corrected_mags_nov = np.asarray(stan_mag)\n",
    "\n",
    "# plt.errorbar(date_times, corrected_mags, yerr=errors, marker='.', ls='None', label='TYC 4273-922-1')\n",
    "# plt.gca().invert_yaxis()\n",
    "# plt.legend()\n",
    "# plt.xlabel('Time')\n",
    "# plt.ylabel('Instrumental Magnitude')\n",
    "# plt.show()"
   ]
  },
  {
   "cell_type": "code",
   "execution_count": 103,
   "id": "31a69968",
   "metadata": {
    "scrolled": false
   },
   "outputs": [
    {
     "data": {
      "image/png": "[encoded data removed]",
      "text/plain": [
       "<Figure size 640x480 with 1 Axes>"
      ]
     },
     "metadata": {},
     "output_type": "display_data"
    }
   ],
   "source": [
    "normal_path = Path('./RZ Cep/All_RZ_Cep/2023_02_23/RZ_Cep/CSVs/Normalised')\n",
    "file_list2 = [f for f in os.listdir(normal_path)if f.endswith('.csv')]\n",
    "\n",
    "stan_mag = []\n",
    "stan_time = []\n",
    "stan_error = []\n",
    "for csv in file_list2:\n",
    "    df = pd.read_csv(normal_path / csv)\n",
    "    stan_mag.append(float(df.loc[df['star_id'] == 'TYC 4273-922-1']['normalised_mag']))\n",
    "    stan_time.append(df['date_time'][0])\n",
    "    stan_error.append(float(abs(df.loc[df['star_id'] == 'TYC 4273-922-1']['mag_error'])))\n",
    "\n",
    "date_times = pd.to_datetime(stan_time)\n",
    "\n",
    "errors = np.asarray(stan_error)\n",
    "corrected_mags = np.asarray(stan_mag)\n",
    "\n",
    "plt.errorbar(date_times, corrected_mags, yerr=errors, marker='.', ls='None', label='TYC 4273-922-1')\n",
    "plt.gca().invert_yaxis()\n",
    "plt.legend()\n",
    "plt.xlabel('Time')\n",
    "plt.ylabel('Instrumental Magnitude')\n",
    "plt.show()"
   ]
  },
  {
   "cell_type": "code",
   "execution_count": 104,
   "id": "c9f1b5ee",
   "metadata": {},
   "outputs": [
    {
     "ename": "TypeError",
     "evalue": "cannot convert the series to <class 'float'>",
     "output_type": "error",
     "traceback": [
      "\u001b[1;31m---------------------------------------------------------------------------\u001b[0m",
      "\u001b[1;31mTypeError\u001b[0m                                 Traceback (most recent call last)",
      "Cell \u001b[1;32mIn[104], line 9\u001b[0m\n\u001b[0;32m      7\u001b[0m \u001b[38;5;28;01mfor\u001b[39;00m csv \u001b[38;5;129;01min\u001b[39;00m file_list2:\n\u001b[0;32m      8\u001b[0m     df \u001b[38;5;241m=\u001b[39m pd\u001b[38;5;241m.\u001b[39mread_csv(normal_path \u001b[38;5;241m/\u001b[39m csv)\n\u001b[1;32m----> 9\u001b[0m     stan_mag\u001b[38;5;241m.\u001b[39mappend(\u001b[38;5;28mfloat\u001b[39m(df\u001b[38;5;241m.\u001b[39mloc[df[\u001b[38;5;124m'\u001b[39m\u001b[38;5;124mstar_id\u001b[39m\u001b[38;5;124m'\u001b[39m] \u001b[38;5;241m==\u001b[39m \u001b[38;5;124m'\u001b[39m\u001b[38;5;124mTYC 4273-922-1\u001b[39m\u001b[38;5;124m'\u001b[39m][\u001b[38;5;124m'\u001b[39m\u001b[38;5;124mnormalised_mag\u001b[39m\u001b[38;5;124m'\u001b[39m]))\n\u001b[0;32m     10\u001b[0m     stan_time\u001b[38;5;241m.\u001b[39mappend(df[\u001b[38;5;124m'\u001b[39m\u001b[38;5;124mdate_time\u001b[39m\u001b[38;5;124m'\u001b[39m][\u001b[38;5;241m0\u001b[39m])\n\u001b[0;32m     11\u001b[0m     stan_error\u001b[38;5;241m.\u001b[39mappend(\u001b[38;5;28mfloat\u001b[39m(\u001b[38;5;28mabs\u001b[39m(df\u001b[38;5;241m.\u001b[39mloc[df[\u001b[38;5;124m'\u001b[39m\u001b[38;5;124mstar_id\u001b[39m\u001b[38;5;124m'\u001b[39m] \u001b[38;5;241m==\u001b[39m \u001b[38;5;124m'\u001b[39m\u001b[38;5;124mTYC 4273-922-1\u001b[39m\u001b[38;5;124m'\u001b[39m][\u001b[38;5;124m'\u001b[39m\u001b[38;5;124mmag_error\u001b[39m\u001b[38;5;124m'\u001b[39m])))\n",
      "File \u001b[1;32mC:\\ProgramData\\Anaconda3\\Lib\\site-packages\\pandas\\core\\series.py:206\u001b[0m, in \u001b[0;36m_coerce_method.<locals>.wrapper\u001b[1;34m(self)\u001b[0m\n\u001b[0;32m    204\u001b[0m \u001b[38;5;28;01mif\u001b[39;00m \u001b[38;5;28mlen\u001b[39m(\u001b[38;5;28mself\u001b[39m) \u001b[38;5;241m==\u001b[39m \u001b[38;5;241m1\u001b[39m:\n\u001b[0;32m    205\u001b[0m     \u001b[38;5;28;01mreturn\u001b[39;00m converter(\u001b[38;5;28mself\u001b[39m\u001b[38;5;241m.\u001b[39miloc[\u001b[38;5;241m0\u001b[39m])\n\u001b[1;32m--> 206\u001b[0m \u001b[38;5;28;01mraise\u001b[39;00m \u001b[38;5;167;01mTypeError\u001b[39;00m(\u001b[38;5;124mf\u001b[39m\u001b[38;5;124m\"\u001b[39m\u001b[38;5;124mcannot convert the series to \u001b[39m\u001b[38;5;132;01m{\u001b[39;00mconverter\u001b[38;5;132;01m}\u001b[39;00m\u001b[38;5;124m\"\u001b[39m)\n",
      "\u001b[1;31mTypeError\u001b[0m: cannot convert the series to <class 'float'>"
     ]
    }
   ],
   "source": [
    "normal_path = Path('./RZ Cep/All_RZ_Cep/2023_01_23/RZ_Cep/CSVs/Normalised')\n",
    "file_list2 = [f for f in os.listdir(normal_path)if f.endswith('.csv')]\n",
    "\n",
    "stan_mag = []\n",
    "stan_time = []\n",
    "stan_error = []\n",
    "for csv in file_list2:\n",
    "    df = pd.read_csv(normal_path / csv)\n",
    "    stan_mag.append(float(df.loc[df['star_id'] == 'TYC 4273-922-1']['normalised_mag']))\n",
    "    stan_time.append(df['date_time'][0])\n",
    "    stan_error.append(float(abs(df.loc[df['star_id'] == 'TYC 4273-922-1']['mag_error'])))\n",
    "\n",
    "date_times = pd.to_datetime(stan_time)\n",
    "\n",
    "errors = np.asarray(stan_error)\n",
    "corrected_mags = np.asarray(stan_mag)\n",
    "\n",
    "plt.errorbar(date_times, corrected_mags, yerr=errors, marker='.', ls='None', label='TYC 4273-922-1')\n",
    "plt.gca().invert_yaxis()\n",
    "plt.legend()\n",
    "plt.xlabel('Time')\n",
    "plt.ylabel('Instrumental Magnitude')\n",
    "plt.show()"
   ]
  },
  {
   "cell_type": "code",
   "execution_count": null,
   "id": "cc254a53",
   "metadata": {},
   "outputs": [],
   "source": []
  }
 ],
 "metadata": {
  "kernelspec": {
   "display_name": "Python 3 (ipykernel)",
   "language": "python",
   "name": "python3"
  },
  "language_info": {
   "codemirror_mode": {
    "name": "ipython",
    "version": 3
   },
   "file_extension": ".py",
   "mimetype": "text/x-python",
   "name": "python",
   "nbconvert_exporter": "python",
   "pygments_lexer": "ipython3",
   "version": "3.11.3"
  }
 },
 "nbformat": 4,
 "nbformat_minor": 5
}
