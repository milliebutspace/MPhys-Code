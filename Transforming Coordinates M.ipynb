{
 "cells": [
  {
   "cell_type": "code",
   "execution_count": 1,
   "id": "a34bdb3b",
   "metadata": {},
   "outputs": [],
   "source": [
    "import pandas as pd\n",
    "from pathlib import Path\n",
    "import numpy as np\n",
    "import os\n",
    "import astroalign as aa"
   ]
  },
  {
   "cell_type": "code",
   "execution_count": 2,
   "id": "f6b46e41",
   "metadata": {},
   "outputs": [],
   "source": [
    "#filter specific file names\n",
    "luminance = 'Light_Luminance_3.500_secs_001_reduced_stars.csv'\n",
    "red = 'star_Light_Red_30_secs_001_reduced_stars.csv'\n",
    "green = 'star_Light_Green_30_secs_001_reduced_stars.csv'\n",
    "blue = 'star_Light_Blue_30_secs_001_reduced_stars.csv'\n",
    "\n",
    "#set current filter\n",
    "ref_csv_name = luminance\n",
    "current_filter = 'Luminance'\n",
    "\n",
    "read_path = Path(f'./RZ Cep/All_RZ_Cep/2023_11_10/RZ_Cep/CSVs/Unmatched Stars/{current_filter}')\n",
    "file_list = [f for f in os.listdir(read_path)if f.endswith(\".csv\") and \n",
    "             f != ref_csv_name]\n",
    "write_path = Path(f'./RZ Cep/All_RZ_Cep/2023_11_10/RZ_Cep/CSVs/Matched Stars/{current_filter}')"
   ]
  },
  {
   "cell_type": "code",
   "execution_count": 3,
   "id": "eb9e385f",
   "metadata": {
    "scrolled": true
   },
   "outputs": [
    {
     "name": "stderr",
     "output_type": "stream",
     "text": [
      "C:\\ProgramData\\Anaconda3\\Lib\\site-packages\\paramiko\\transport.py:219: CryptographyDeprecationWarning: Blowfish has been deprecated\n",
      "  \"class\": algorithms.Blowfish,\n"
     ]
    },
    {
     "name": "stdout",
     "output_type": "stream",
     "text": [
      "Light_Luminance_3.500_secs_002_reduced_matched.csv\n",
      "Light_Luminance_3.500_secs_003_reduced_matched.csv\n",
      "Light_Luminance_3.500_secs_004_reduced_matched.csv\n",
      "Light_Luminance_3.500_secs_005_reduced_matched.csv\n",
      "Light_Luminance_3.500_secs_006_reduced_matched.csv\n",
      "Light_Luminance_3.500_secs_007_reduced_matched.csv\n",
      "Light_Luminance_5_secs_001_reduced_matched.csv\n",
      "Light_Luminance_5_secs_002_reduced_matched.csv\n",
      "Light_Luminance_5_secs_003_reduced_matched.csv\n",
      "Light_Luminance_5_secs_004_reduced_matched.csv\n",
      "Light_Luminance_5_secs_005_reduced_matched.csv\n",
      "Light_Luminance_5_secs_006_reduced_matched.csv\n",
      "Light_Luminance_5_secs_007_reduced_matched.csv\n",
      "Light_Luminance_5_secs_008_reduced_matched.csv\n",
      "Light_Luminance_5_secs_009_reduced_matched.csv\n",
      "Light_Luminance_5_secs_010_reduced_matched.csv\n",
      "star_Light_Luminance_3.500_secs_001_reduced_matched.csv\n",
      "star_Light_Luminance_3.500_secs_002_reduced_matched.csv\n",
      "star_Light_Luminance_3.500_secs_003_reduced_matched.csv\n",
      "star_Light_Luminance_3.500_secs_004_reduced_matched.csv\n",
      "star_Light_Luminance_3.500_secs_005_reduced_matched.csv\n",
      "star_Light_Luminance_3.500_secs_006_reduced_matched.csv\n",
      "star_Light_Luminance_3.500_secs_007_reduced_matched.csv\n",
      "star_Light_Luminance_3.500_secs_008_reduced_matched.csv\n",
      "star_Light_Luminance_3.500_secs_009_reduced_matched.csv\n",
      "star_Light_Luminance_3.500_secs_010_reduced_matched.csv\n",
      "star_Light_Luminance_3.500_secs_011_reduced_matched.csv\n",
      "star_Light_Luminance_3.500_secs_012_reduced_matched.csv\n",
      "star_Light_Luminance_3.500_secs_013_reduced_matched.csv\n",
      "star_Light_Luminance_3.500_secs_014_reduced_matched.csv\n",
      "star_Light_Luminance_3.500_secs_015_reduced_matched.csv\n",
      "star_Light_Luminance_3.500_secs_016_reduced_matched.csv\n",
      "star_Light_Luminance_3.500_secs_017_reduced_matched.csv\n",
      "star_Light_Luminance_3.500_secs_018_reduced_matched.csv\n",
      "star_Light_Luminance_3.500_secs_019_reduced_matched.csv\n",
      "star_Light_Luminance_3.500_secs_020_reduced_matched.csv\n",
      "star_Light_Luminance_3.500_secs_021_reduced_matched.csv\n",
      "star_Light_Luminance_3.500_secs_022_reduced_matched.csv\n",
      "star_Light_Luminance_3.500_secs_023_reduced_matched.csv\n",
      "star_Light_Luminance_3.500_secs_024_reduced_matched.csv\n",
      "star_Light_Luminance_3.500_secs_025_reduced_matched.csv\n",
      "star_Light_Luminance_3.500_secs_026_reduced_matched.csv\n",
      "star_Light_Luminance_3.500_secs_027_reduced_matched.csv\n",
      "star_Light_Luminance_3.500_secs_028_reduced_matched.csv\n",
      "star_Light_Luminance_3.500_secs_029_reduced_matched.csv\n",
      "star_Light_Luminance_3.500_secs_030_reduced_matched.csv\n",
      "[]\n"
     ]
    }
   ],
   "source": [
    "#transform star lists\n",
    "#set up arrays to hold transforms, source lists, target lists, number of matching stars and all the bad files\n",
    "transfs = []\n",
    "source_lists = [] \n",
    "target_lists = []\n",
    "number_matching_stars = []\n",
    "bad_files = []\n",
    "\n",
    "#read in the target/reference dataframe\n",
    "df_target = pd.read_csv(read_path / ref_csv_name, delimiter=',')\n",
    "#isolate star positions\n",
    "target = pd.concat([df_target['x_center'], df_target['y_center']], axis=1)\n",
    "\n",
    "\n",
    "for i in range(len(file_list)):\n",
    "        #print(i,len(file_list))\n",
    "        #print(file_list[i])\n",
    "        #read in source dataframe which we match to the target\n",
    "        df_source = pd.read_csv(read_path / file_list[i], index_col=0)\n",
    "        #isolate star positions\n",
    "        source = pd.concat([df_source['x_center'],df_source['y_center']], axis=1)\n",
    "        #find the transform for the current source image, which we do not apply\n",
    "        #when max control points is set to 75+, falsely duplicates some stars\n",
    "        transf, (source_list, target_list) = aa.find_transform(source,target,max_control_points=50)\n",
    "        #array appending\n",
    "        transfs.append(transf)\n",
    "        source_lists.append(source_list)\n",
    "        target_lists.append(target_list)\n",
    "        number_matching_stars.append(len(target_list))\n",
    "\n",
    "        #match source_list indexes to indexes in source dataframe\n",
    "        df_matched_source = df_source.iloc[pd.Index(df_source['x_center']).get_indexer(source_list[:,0])]\n",
    "        #reset indexes so they are the same\n",
    "        df_matched_source.reset_index(inplace=True)\n",
    "\n",
    "        #match target_list indexes to indexes in target dataframe\n",
    "        df_matched_target = df_target.iloc[pd.Index(df_target['x_center']).get_indexer(target_list[:,0])]\n",
    "        #reset indexes so they are the same\n",
    "        df_matched_target.reset_index(inplace=True)\n",
    "\n",
    "        #join matched star ids to the course dataframe to create a new dataframe\n",
    "        df_out = df_matched_source.join(df_matched_target['star_id'], rsuffix='_ref')\n",
    "\n",
    "        #update file name and write output matched dataframe to a new csv\n",
    "        file_name = file_list[i].replace('_stars.csv','_matched.csv')\n",
    "        print(file_name)\n",
    "        df_out.to_csv(write_path / file_name)\n",
    "\n",
    "#rename target csv and write to same location as matched csvs\n",
    "ref_csv_name = ref_csv_name.replace('_stars', '_matched')\n",
    "df_target.to_csv(write_path / ref_csv_name)\n",
    "#print any bad file names for closer inspection\n",
    "print(bad_files)"
   ]
  },
  {
   "cell_type": "code",
   "execution_count": null,
   "id": "2a83762f",
   "metadata": {},
   "outputs": [],
   "source": []
  },
  {
   "cell_type": "code",
   "execution_count": null,
   "id": "489020ae",
   "metadata": {},
   "outputs": [],
   "source": []
  }
 ],
 "metadata": {
  "kernelspec": {
   "display_name": "Python 3 (ipykernel)",
   "language": "python",
   "name": "python3"
  },
  "language_info": {
   "codemirror_mode": {
    "name": "ipython",
    "version": 3
   },
   "file_extension": ".py",
   "mimetype": "text/x-python",
   "name": "python",
   "nbconvert_exporter": "python",
   "pygments_lexer": "ipython3",
   "version": "3.11.3"
  }
 },
 "nbformat": 4,
 "nbformat_minor": 5
}
